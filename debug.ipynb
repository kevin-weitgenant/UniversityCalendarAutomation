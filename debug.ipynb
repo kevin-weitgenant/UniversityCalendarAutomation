{
 "cells": [
  {
   "cell_type": "code",
   "execution_count": 18,
   "id": "76ea3eb9",
   "metadata": {},
   "outputs": [],
   "source": [
    "import datetime as dt\n",
    "from dateutil.rrule import rrule, WEEKLY, MO\n",
    "from datetime import date, datetime, timedelta, timezone\n",
    "\n",
    "next_day = rrule(freq=WEEKLY, dtstart=date.today(), byweekday=0, count=1)[0]"
   ]
  },
  {
   "cell_type": "code",
   "execution_count": 19,
   "id": "c7cb7ea7",
   "metadata": {},
   "outputs": [
    {
     "data": {
      "text/plain": [
       "datetime.datetime(2022, 3, 7, 0, 0)"
      ]
     },
     "execution_count": 19,
     "metadata": {},
     "output_type": "execute_result"
    }
   ],
   "source": [
    "next_day"
   ]
  },
  {
   "cell_type": "code",
   "execution_count": 20,
   "id": "dfb0d863",
   "metadata": {},
   "outputs": [
    {
     "data": {
      "text/plain": [
       "(datetime.datetime(1900, 1, 1, 2, 40), datetime.datetime(1900, 1, 1, 1, 40))"
      ]
     },
     "execution_count": 20,
     "metadata": {},
     "output_type": "execute_result"
    }
   ],
   "source": [
    "\n",
    "\n",
    "begin = datetime.strptime(\"2:40\", '%H:%M')\n",
    "end = datetime.strptime(\"1:40\", '%H:%M')\n",
    "\n",
    "begin, end"
   ]
  },
  {
   "cell_type": "code",
   "execution_count": 24,
   "id": "87d505b8",
   "metadata": {},
   "outputs": [
    {
     "data": {
      "text/plain": [
       "datetime.datetime(2022, 3, 7, 2, 40)"
      ]
     },
     "execution_count": 24,
     "metadata": {},
     "output_type": "execute_result"
    }
   ],
   "source": [
    "begin_time = datetime(next_day.year,next_day.month,next_day.day, begin.hour, begin.minute)\n",
    "begin_time"
   ]
  },
  {
   "cell_type": "code",
   "execution_count": 26,
   "id": "c4e28f34",
   "metadata": {},
   "outputs": [
    {
     "data": {
      "text/plain": [
       "'2022-03-07T05:40:00Z'"
      ]
     },
     "execution_count": 26,
     "metadata": {},
     "output_type": "execute_result"
    }
   ],
   "source": [
    "final_time = begin_time + timedelta(hours=3)\n",
    "final_time.isoformat() + 'Z'"
   ]
  },
  {
   "cell_type": "code",
   "execution_count": null,
   "id": "b33523e2",
   "metadata": {},
   "outputs": [],
   "source": []
  }
 ],
 "metadata": {
  "kernelspec": {
   "display_name": "Python 3 (ipykernel)",
   "language": "python",
   "name": "python3"
  },
  "language_info": {
   "codemirror_mode": {
    "name": "ipython",
    "version": 3
   },
   "file_extension": ".py",
   "mimetype": "text/x-python",
   "name": "python",
   "nbconvert_exporter": "python",
   "pygments_lexer": "ipython3",
   "version": "3.9.7"
  }
 },
 "nbformat": 4,
 "nbformat_minor": 5
}
