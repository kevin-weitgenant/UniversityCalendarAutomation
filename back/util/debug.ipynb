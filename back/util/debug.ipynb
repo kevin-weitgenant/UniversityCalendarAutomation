{
 "cells": [
  {
   "cell_type": "code",
   "execution_count": 44,
   "metadata": {},
   "outputs": [],
   "source": [
    "\n",
    "\n",
    "\n",
    "text = \"\"\"\n",
    "ÑÃO FINROMADO\n",
    "SEGUNDA-FEIRA\n",
    "10:00 - 10:50    22000303 - M1 - PROJETO DE COMPILADORES    [ANG] 343 - Sala de aula\n",
    "10:50 - 11:40    22000303 - M1 - PROJETO DE COMPILADORES    [ANG] 343 - Sala de aula\n",
    "QUINTA-FEIRA\n",
    "10:00 - 10:50    22000303 - M1 - PROJETO DE COMPILADORES    [ANG] 235 - Sala de Aula\n",
    "10:50 - 11:40    22000303 - M1 - PROJETO DE COMPILADORES    [ANG] 235 - Sala de Aula\n",
    "SEXTA-FEIRA\n",
    "17:10 - 18:00    22000306 - M1 - TRABALHO DE CONCLUSÃO DE CURSO II    [ANG] 342 - Sala de aula\n",
    "18:00 - 18:50    22000306 - M1 - TRABALHO DE CONCLUSÃO DE CURSO II    [ANG] 342 - Sala de aula\"\"\"\n",
    "\n"
   ]
  },
  {
   "cell_type": "code",
   "execution_count": 45,
   "metadata": {},
   "outputs": [],
   "source": [
    "from enum import Enum\n",
    "import re\n",
    "from typing import Dict, List\n",
    "from pydantic import BaseModel\n",
    "from datetime import datetime\n",
    "\n",
    "class classDetails(BaseModel):\n",
    "    time: datetime\n",
    "    subject: str\n",
    "    location: str\n",
    "\n",
    "class Weekday(Enum):\n",
    "    SEGUNDA_FEIRA = 0\n",
    "    TERCA_FEIRA = 1\n",
    "    QUARTA_FEIRA = 2\n",
    "    QUINTA_FEIRA = 3\n",
    "    SEXTA_FEIRA = 4\n",
    "    SABADO = 5\n",
    "    DOMINGO = 6\n",
    "\n",
    "def rename_keys(dictionary: Dict[str, str]) -> Dict[Weekday, str]:\n",
    "    return {Weekday[key.replace(\"-\", \"_\").upper()]: value for key, value in dictionary.items() if key.replace(\"-\", \"_\").upper() in Weekday.__members__}\n",
    "\n",
    "def merge_events(dictionaryVariable: dict) -> dict:\n",
    "    merged_dictionary = {}\n",
    "\n",
    "    for day, events in dictionaryVariable.items():\n",
    "        merged_events = []\n",
    "        i = 0\n",
    "        while i < len(events):\n",
    "            current_event = events[i]\n",
    "            # If there's a next event and it has the same subject as the current event\n",
    "            if i + 1 < len(events) and current_event['subject'] == events[i + 1]['subject']:\n",
    "                next_event = events[i + 1]\n",
    "                # If the end time of the current event is the start time of the next event\n",
    "                if current_event['time'].split(' - ')[1] == next_event['time'].split(' - ')[0]:\n",
    "                    # Merge the events\n",
    "                    merged_event = {\n",
    "                        'time': current_event['time'].split(' - ')[0] + ' - ' + next_event['time'].split(' - ')[1],\n",
    "                        'subject': current_event['subject'],\n",
    "                        'location': current_event['location'] if current_event['location'] == next_event['location'] else current_event['location'] + ', ' + next_event['location']\n",
    "                    }\n",
    "                    current_event = merged_event  # Set the current event to the merged event\n",
    "                    i += 1  # Skip the next event\n",
    "\n",
    "            merged_events.append(current_event)\n",
    "            i += 1\n",
    "\n",
    "        merged_dictionary[day] = merged_events\n",
    "\n",
    "    return merged_dictionary\n",
    "\n",
    "def preliminary_text_to_dict(scheduleText: str) -> Dict[str, str]:  # just use the function to be more clear the output\n",
    "    schedule = {}\n",
    "    weekdays = ['SEGUNDA-FEIRA', 'TERCA-FEIRA', 'QUARTA-FEIRA', 'QUINTA-FEIRA', 'SEXTA-FEIRA', 'SABADO', 'DOMINGO']\n",
    "    lines = scheduleText.splitlines()\n",
    "    current_day = None\n",
    "\n",
    "    # create dictionary with keys as weekdays and values as a list with every index as one class time entry\n",
    "    #{'SEGUNDA-FEIRA': ['10:00 - 10:50    22000303 - M1 - PROJETO DE COMPILADORES    [ANG] 343 - Sala de aula', '10:50 - 11:40    22000303 - M1 - PROJETO DE COMPILADORES    [ANG] 343 - Sala de aula'], 'QUINTA-FEIRA': ['10:00 - 10:50    22000303 - M1 - PROJETO DE COMPILADORES    [ANG] 235 - Sala de Aula', '10:50 - 11:40    22000303 - M1 - PROJETO DE COMPILADORES    [ANG] 235 - Sala de Aula'], 'SEXTA-FEIRA': ['17:10 - 18:00    22000306 - M1 - TRABALHO DE CONCLUSÃO DE CURSO II    [ANG] 342 - Sala de aula', '18:00 - 18:50    22000306 - M1 - TRABALHO DE CONCLUSÃO DE CURSO II    [ANG] 342 - Sala de aula']}\n",
    "    for line in lines:\n",
    "        if line in weekdays:\n",
    "            current_day = line\n",
    "            schedule[current_day] = []\n",
    "        elif current_day is not None:\n",
    "            schedule[current_day] += line.strip().split('\\n')\n",
    "\n",
    "\n",
    "    # the dictionary schedule will be updated in a way that the keys will continue to be the days of the week but\n",
    "    # values will be a list of dictionaries, every dictionary being a class time entry\n",
    "    # and this dictionary will have keys: time,subject,location\n",
    "    for key,value in schedule.items():\n",
    "        lst = []\n",
    "        for entry in value:\n",
    "            parts = re.split(r'\\s{2,}', entry)\n",
    "            time = parts[0]\n",
    "            subject = parts[1].split('-')[-1]\n",
    "            location = parts[2].split('-')[0]\n",
    "            lst.append({'time':time,\n",
    "                        'subject': subject,\n",
    "                        'location' :location})\n",
    "        schedule[key]= lst\n",
    "    return merge_events(schedule)\n",
    "\n",
    "\n",
    "def parse_schedule_text(scheduleText: str) -> Dict[Weekday, List[classDetails]]:\n",
    "    \n",
    "    preliminary_dict = preliminary_text_to_dict(scheduleText)\n",
    "    scheduleDict = rename_keys(preliminary_dict)\n",
    "    \n",
    "    for day, classes in scheduleDict.items():\n",
    "      for index, classDetails in enumerate(classes):\n",
    "        startTimeString = classDetails.get('time').split('-')[0].strip()\n",
    "        endTimeString = classDetails.get('time').split('-')[-1].strip()\n",
    "\n",
    "        startTime = datetime.strptime(startTimeString, '%H:%M')\n",
    "        endTime = datetime.strptime(endTimeString, '%H:%M')\n",
    "        scheduleDict[day][index]['startTime'] = startTime\n",
    "        scheduleDict[day][index]['endTime'] = endTime\n",
    "        del classDetails['time']\n",
    "\n",
    "    return scheduleDict\n",
    "    \n",
    "dict2 = parse_schedule_text(text)"
   ]
  },
  {
   "cell_type": "code",
   "execution_count": 46,
   "metadata": {},
   "outputs": [
    {
     "data": {
      "text/plain": [
       "'\\nÑÃO FINROMADO\\nSEGUNDA-FEIRA\\n10:00 - 10:50    22000303 - M1 - PROJETO DE COMPILADORES    [ANG] 343 - Sala de aula\\n10:50 - 11:40    22000303 - M1 - PROJETO DE COMPILADORES    [ANG] 343 - Sala de aula\\nQUINTA-FEIRA\\n10:00 - 10:50    22000303 - M1 - PROJETO DE COMPILADORES    [ANG] 235 - Sala de Aula\\n10:50 - 11:40    22000303 - M1 - PROJETO DE COMPILADORES    [ANG] 235 - Sala de Aula\\nSEXTA-FEIRA\\n17:10 - 18:00    22000306 - M1 - TRABALHO DE CONCLUSÃO DE CURSO II    [ANG] 342 - Sala de aula\\n18:00 - 18:50    22000306 - M1 - TRABALHO DE CONCLUSÃO DE CURSO II    [ANG] 342 - Sala de aula'"
      ]
     },
     "execution_count": 46,
     "metadata": {},
     "output_type": "execute_result"
    }
   ],
   "source": [
    "text"
   ]
  },
  {
   "cell_type": "code",
   "execution_count": null,
   "metadata": {},
   "outputs": [],
   "source": []
  },
  {
   "cell_type": "code",
   "execution_count": 47,
   "metadata": {},
   "outputs": [
    {
     "data": {
      "text/plain": [
       "{<Weekday.SEGUNDA_FEIRA: 0>: [{'subject': ' PROJETO DE COMPILADORES',\n",
       "   'location': '[ANG] 343 ',\n",
       "   'startTime': datetime.datetime(1900, 1, 1, 10, 0),\n",
       "   'endTime': datetime.datetime(1900, 1, 1, 11, 40)}],\n",
       " <Weekday.QUINTA_FEIRA: 3>: [{'subject': ' PROJETO DE COMPILADORES',\n",
       "   'location': '[ANG] 235 ',\n",
       "   'startTime': datetime.datetime(1900, 1, 1, 10, 0),\n",
       "   'endTime': datetime.datetime(1900, 1, 1, 11, 40)}],\n",
       " <Weekday.SEXTA_FEIRA: 4>: [{'subject': ' TRABALHO DE CONCLUSÃO DE CURSO II',\n",
       "   'location': '[ANG] 342 ',\n",
       "   'startTime': datetime.datetime(1900, 1, 1, 17, 10),\n",
       "   'endTime': datetime.datetime(1900, 1, 1, 18, 50)}]}"
      ]
     },
     "execution_count": 47,
     "metadata": {},
     "output_type": "execute_result"
    }
   ],
   "source": [
    "dict2"
   ]
  }
 ],
 "metadata": {
  "kernelspec": {
   "display_name": "Python 3",
   "language": "python",
   "name": "python3"
  },
  "language_info": {
   "codemirror_mode": {
    "name": "ipython",
    "version": 3
   },
   "file_extension": ".py",
   "mimetype": "text/x-python",
   "name": "python",
   "nbconvert_exporter": "python",
   "pygments_lexer": "ipython3",
   "version": "3.10.12"
  }
 },
 "nbformat": 4,
 "nbformat_minor": 2
}
