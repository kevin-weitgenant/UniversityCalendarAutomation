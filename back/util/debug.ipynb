{
 "cells": [
  {
   "cell_type": "code",
   "execution_count": 36,
   "metadata": {},
   "outputs": [
    {
     "name": "stdout",
     "output_type": "stream",
     "text": [
      "{'SEGUNDA-FEIRA': [{'time': '10:00 - 10:50', 'subject': ' PROJETO DE COMPILADORES', 'location': '[ANG] 343 '}, {'time': '10:50 - 11:40', 'subject': ' PROJETO DE COMPILADORES', 'location': '[ANG] 343 '}], 'QUINTA-FEIRA': [{'time': '10:00 - 10:50', 'subject': ' PROJETO DE COMPILADORES', 'location': '[ANG] 235 '}, {'time': '10:50 - 11:40', 'subject': ' PROJETO DE COMPILADORES', 'location': '[ANG] 235 '}], 'SEXTA-FEIRA': [{'time': '17:10 - 18:00', 'subject': ' TRABALHO DE CONCLUSÃO DE CURSO II', 'location': '[ANG] 342 '}, {'time': '18:00 - 18:50', 'subject': ' TRABALHO DE CONCLUSÃO DE CURSO II', 'location': '[ANG] 342 '}]}\n"
     ]
    }
   ],
   "source": [
    "import re\n",
    "\n",
    "def parse_schedule(text):\n",
    "    schedule = {}\n",
    "    weekdays = ['SEGUNDA-FEIRA', 'TERCA-FEIRA', 'QUARTA-FEIRA', 'QUINTA-FEIRA', 'SEXTA-FEIRA', 'SABADO', 'DOMINGO']\n",
    "    lines = text.splitlines()\n",
    "    current_day = None\n",
    "\n",
    "    # create dictionary with keys as weekdays and values as a list with every index as one class time entry\n",
    "    #{'SEGUNDA-FEIRA': ['10:00 - 10:50    22000303 - M1 - PROJETO DE COMPILADORES    [ANG] 343 - Sala de aula', '10:50 - 11:40    22000303 - M1 - PROJETO DE COMPILADORES    [ANG] 343 - Sala de aula'], 'QUINTA-FEIRA': ['10:00 - 10:50    22000303 - M1 - PROJETO DE COMPILADORES    [ANG] 235 - Sala de Aula', '10:50 - 11:40    22000303 - M1 - PROJETO DE COMPILADORES    [ANG] 235 - Sala de Aula'], 'SEXTA-FEIRA': ['17:10 - 18:00    22000306 - M1 - TRABALHO DE CONCLUSÃO DE CURSO II    [ANG] 342 - Sala de aula', '18:00 - 18:50    22000306 - M1 - TRABALHO DE CONCLUSÃO DE CURSO II    [ANG] 342 - Sala de aula']}\n",
    "    for line in lines:\n",
    "        if line in weekdays:\n",
    "            current_day = line\n",
    "            schedule[current_day] = []\n",
    "        elif current_day is not None:\n",
    "            schedule[current_day] += line.strip().split('\\n')\n",
    "\n",
    "\n",
    "    # the dictionary schedule will be updated in a way that the keys will continue to be the days of the week but\n",
    "    # values will be a list of dictionaries, every dictionary being a class time entry\n",
    "    # and this dictionary will have keys: time,subject,location\n",
    "    for key,value in schedule.items():\n",
    "        lst = []\n",
    "        for entry in value:\n",
    "            parts = re.split(r'\\s{2,}', entry)\n",
    "            time = parts[0]\n",
    "            subject = parts[1].split('-')[-1]\n",
    "            location = parts[2].split('-')[0]\n",
    "            lst.append({'time':time,\n",
    "                        'subject': subject,\n",
    "                        'location' :location})\n",
    "        schedule[key]= lst\n",
    "    \n",
    "\n",
    "\n",
    "    return schedule\n",
    "\n",
    "\n",
    "text = \"\"\"\n",
    "ÑÃO FINROMADO\n",
    "SEGUNDA-FEIRA\n",
    "10:00 - 10:50    22000303 - M1 - PROJETO DE COMPILADORES    [ANG] 343 - Sala de aula\n",
    "10:50 - 11:40    22000303 - M1 - PROJETO DE COMPILADORES    [ANG] 343 - Sala de aula\n",
    "QUINTA-FEIRA\n",
    "10:00 - 10:50    22000303 - M1 - PROJETO DE COMPILADORES    [ANG] 235 - Sala de Aula\n",
    "10:50 - 11:40    22000303 - M1 - PROJETO DE COMPILADORES    [ANG] 235 - Sala de Aula\n",
    "SEXTA-FEIRA\n",
    "17:10 - 18:00    22000306 - M1 - TRABALHO DE CONCLUSÃO DE CURSO II    [ANG] 342 - Sala de aula\n",
    "18:00 - 18:50    22000306 - M1 - TRABALHO DE CONCLUSÃO DE CURSO II    [ANG] 342 - Sala de aula\"\"\"\n",
    "\n",
    "schedule = parse_schedule(text)\n",
    "print(schedule)"
   ]
  }
 ],
 "metadata": {
  "kernelspec": {
   "display_name": "Python 3",
   "language": "python",
   "name": "python3"
  },
  "language_info": {
   "codemirror_mode": {
    "name": "ipython",
    "version": 3
   },
   "file_extension": ".py",
   "mimetype": "text/x-python",
   "name": "python",
   "nbconvert_exporter": "python",
   "pygments_lexer": "ipython3",
   "version": "3.10.12"
  }
 },
 "nbformat": 4,
 "nbformat_minor": 2
}
